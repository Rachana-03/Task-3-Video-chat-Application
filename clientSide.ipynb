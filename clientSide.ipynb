{
 "cells": [
  {
   "cell_type": "code",
   "execution_count": null,
   "id": "ff9db3ff",
   "metadata": {},
   "outputs": [],
   "source": [
    "import socket\n",
    "import cv2\n",
    "\n",
    "client_socket  = socket.socket(socket.AF_INET , socket.SOCK_STREAM) \n",
    "\n",
    "IP = \"192.168.1.13\"\n",
    "PORT = 8888\n",
    "client_socket.connect((IP,PORT))\n",
    "\n",
    "cap = cv2.VideoCapture(0)                      #using system's cam\n",
    "\n",
    "while True:                                    \n",
    "    ret,photo = cap.read()                     #capturing phots\n",
    "    cv2.imwrite(\"IMAGE_CLIENT.jpg\",photo)      #writing those pictures on in each loop\n",
    "    file = open(\"IMAGE_CLIENT.jpg\",\"rb\")       #opening the written image in each loop\n",
    "\n",
    "    img_data = file.read(2048000)              #changing it into byte format                             \n",
    "    client_socket.send(img_data)               #client will send it to server \n",
    "    \n",
    "    cv2.imshow(\"Client\",photo)                 #displaying the client img in loop (i.e video)\n",
    "    if cv2.waitKey(1) == 13:                   #if ENTER is pressed ,tab will close\n",
    "        break\n",
    "    \n",
    "cv2.destroyAllWindows()\n",
    "cap.release()\n",
    "\n",
    "file.close()\n",
    "client_socket.close()"
   ]
  },
  {
   "cell_type": "code",
   "execution_count": null,
   "id": "5ad543f2",
   "metadata": {},
   "outputs": [],
   "source": []
  },
  {
   "cell_type": "code",
   "execution_count": null,
   "id": "6229369f",
   "metadata": {},
   "outputs": [],
   "source": []
  },
  {
   "cell_type": "code",
   "execution_count": null,
   "id": "f5bdcd61",
   "metadata": {},
   "outputs": [],
   "source": []
  },
  {
   "cell_type": "code",
   "execution_count": null,
   "id": "4374fe89",
   "metadata": {},
   "outputs": [],
   "source": []
  },
  {
   "cell_type": "code",
   "execution_count": null,
   "id": "4b34d55e",
   "metadata": {},
   "outputs": [],
   "source": []
  },
  {
   "cell_type": "code",
   "execution_count": null,
   "id": "9fe46964",
   "metadata": {},
   "outputs": [],
   "source": []
  },
  {
   "cell_type": "code",
   "execution_count": null,
   "id": "b0ce1da8",
   "metadata": {},
   "outputs": [],
   "source": []
  },
  {
   "cell_type": "code",
   "execution_count": null,
   "id": "f72583a9",
   "metadata": {},
   "outputs": [],
   "source": []
  },
  {
   "cell_type": "code",
   "execution_count": null,
   "id": "3636ecc7",
   "metadata": {},
   "outputs": [],
   "source": []
  },
  {
   "cell_type": "code",
   "execution_count": null,
   "id": "b26ce2f2",
   "metadata": {},
   "outputs": [],
   "source": []
  },
  {
   "cell_type": "code",
   "execution_count": null,
   "id": "e3f35cbc",
   "metadata": {},
   "outputs": [],
   "source": [
    "import socket\n",
    "import cv2\n",
    "\n",
    "client_socket  = socket.socket(socket.AF_INET , socket.SOCK_STREAM) \n",
    "client_socket.connect((\"192.168.1.13\",8888))\n",
    "\n",
    "cap = cv2.VideoCapture(0)                          #using system web cam\n",
    "\n",
    "while True:\n",
    "    ret,photo = cap.read()                         #capturing phots\n",
    "    cv2.imwrite(\"vidC.jpg\",photo)                  #writing those pictures on \"vid.jpg\" in each loop\n",
    "    file = open(\"vidC.jpg\",\"rb\")                   #opening the written image in each loop\n",
    "\n",
    "    img_data = file.read(2048000)                  #changing it into byte format\n",
    "\n",
    "    while img_data:                                #while there is a data in img_data \n",
    "        client_socket.send(img_data)               #client will send it to server\n",
    "        img_data = file.read(2048000)              #\n",
    "    cv2.imshow(\"Client\",photo)\n",
    "    if cv2.waitKey(1) == 13:\n",
    "        break\n",
    "    \n",
    "\n",
    "\n",
    "cv2.destroyAllWindows()        \n",
    "file.close()\n",
    "client_socket.close()"
   ]
  }
 ],
 "metadata": {
  "kernelspec": {
   "display_name": "Python 3",
   "language": "python",
   "name": "python3"
  },
  "language_info": {
   "codemirror_mode": {
    "name": "ipython",
    "version": 3
   },
   "file_extension": ".py",
   "mimetype": "text/x-python",
   "name": "python",
   "nbconvert_exporter": "python",
   "pygments_lexer": "ipython3",
   "version": "3.8.8"
  }
 },
 "nbformat": 4,
 "nbformat_minor": 5
}
